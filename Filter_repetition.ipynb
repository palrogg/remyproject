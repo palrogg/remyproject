{
 "cells": [
  {
   "cell_type": "code",
   "execution_count": 2,
   "metadata": {},
   "outputs": [],
   "source": [
    "from chatterbot import ChatBot\n",
    "from chatterbot.response_selection import get_random_response\n",
    "from chatterbot.filters import RepetitiveResponseFilter\n",
    "import logging\n",
    "logging.basicConfig(level=logging.INFO)"
   ]
  },
  {
   "cell_type": "code",
   "execution_count": 3,
   "metadata": {},
   "outputs": [
    {
     "name": "stdout",
     "output_type": "stream",
     "text": [
      "conversations.yml Training: [####################] 100%\n"
     ]
    }
   ],
   "source": [
    "chatbot = ChatBot(\n",
    "    'Rémy',\n",
    "    trainer='chatterbot.trainers.ChatterBotCorpusTrainer',\n",
    "    response_selection_method=get_random_response,\n",
    "    filters=[\"chatterbot.filters.RepetitiveResponseFilter\"]\n",
    "       #tie_breaking_method=\"random_response\"\n",
    ")\n",
    "\n",
    "# First, lets train our bot with some data\n",
    "chatbot.train('corpus/conversations.yml')\n",
    "\n",
    "# Now we can export the data to a file\n",
    "chatbot.trainer.export_for_training('./my_export.json')"
   ]
  },
  {
   "cell_type": "code",
   "execution_count": 4,
   "metadata": {},
   "outputs": [
    {
     "name": "stdout",
     "output_type": "stream",
     "text": [
      "test\n"
     ]
    },
    {
     "name": "stderr",
     "output_type": "stream",
     "text": [
      "INFO:chatterbot.adapters:Received input statement: test\n",
      "INFO:chatterbot.adapters:\"test\" is a known statement\n",
      "INFO:chatterbot.adapters:Using \"test\" as a close match to \"Test\"\n",
      "INFO:chatterbot.adapters:Selecting response from 2 optimal responses.\n",
      "INFO:chatterbot.response_selection:Selecting a response from list of 2 options.\n",
      "INFO:chatterbot.adapters:Response selected. Using \"rep 1\"\n",
      "INFO:chatterbot.adapters:BestMatch selected \"rep 1\" as a response with a confidence of 1.0\n",
      "INFO:chatterbot.adapters:NoKnowledgeAdapter selected \"test\" as a response with a confidence of 0\n"
     ]
    },
    {
     "name": "stdout",
     "output_type": "stream",
     "text": [
      "rep 1\n",
      "test\n"
     ]
    },
    {
     "name": "stderr",
     "output_type": "stream",
     "text": [
      "INFO:chatterbot.adapters:Received input statement: test\n",
      "INFO:chatterbot.adapters:\"test\" is a known statement\n",
      "INFO:chatterbot.adapters:Using \"test\" as a close match to \"Test\"\n",
      "INFO:chatterbot.adapters:Selecting response from 2 optimal responses.\n",
      "INFO:chatterbot.response_selection:Selecting a response from list of 2 options.\n",
      "INFO:chatterbot.adapters:Response selected. Using \"rep 2\"\n",
      "INFO:chatterbot.adapters:BestMatch selected \"rep 2\" as a response with a confidence of 1.0\n",
      "INFO:chatterbot.adapters:NoKnowledgeAdapter selected \"test\" as a response with a confidence of 0\n",
      "INFO:chatterbot.chatterbot:Adding \"test\" as a response to \"rep 1\"\n"
     ]
    },
    {
     "name": "stdout",
     "output_type": "stream",
     "text": [
      "rep 2\n",
      "\n"
     ]
    }
   ],
   "source": [
    "x = input()\n",
    "while x != '':\n",
    "    #print(x, '->')\n",
    "    print(chatbot.get_response(x).text)\n",
    "    x = input()"
   ]
  }
 ],
 "metadata": {
  "kernelspec": {
   "display_name": "Python 3",
   "language": "python",
   "name": "python3"
  },
  "language_info": {
   "codemirror_mode": {
    "name": "ipython",
    "version": 3
   },
   "file_extension": ".py",
   "mimetype": "text/x-python",
   "name": "python",
   "nbconvert_exporter": "python",
   "pygments_lexer": "ipython3",
   "version": "3.6.4"
  }
 },
 "nbformat": 4,
 "nbformat_minor": 2
}
